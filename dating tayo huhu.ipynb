{
 "cells": [
  {
   "cell_type": "code",
   "execution_count": 1,
   "id": "fe0fed14-f60b-43bf-898f-4d1f133548f2",
   "metadata": {},
   "outputs": [
    {
     "name": "stdout",
     "output_type": "stream",
     "text": [
      "Pagkat ikaw pa rin sigaw ng puso\n",
      "Ilang awit na ang inalay sa'yo\n",
      "Ilang luha na rin ang natuyo?\n",
      "Kailan kaya muling makakatawang?\n",
      "Hindi ko pinipilit, walang lungkot na sumisilip\n",
      "Kailan kaya muling makakamit?\n",
      "Ang iyong yakap at halik nang hindi sa panaginip?\n",
      "Kailan? Kailan? Kailan? (Kailan?) Kailan?\n",
      "Kailan ang dating\n"
     ]
    }
   ],
   "source": [
    "import time\n",
    "import sys\n",
    "\n",
    "lyrics = [\n",
    "    \"Pagkat ikaw pa rin sigaw ng puso\",\n",
    "    \"Ilang awit na ang inalay sa'yo\",\n",
    "    \"Ilang luha na rin ang natuyo?\",\n",
    "    \"Kailan kaya muling makakatawang?\",\n",
    "    \"Hindi ko pinipilit, walang lungkot na sumisilip\",\n",
    "    \"Kailan kaya muling makakamit?\",\n",
    "    \"Ang iyong yakap at halik nang hindi sa panaginip?\",\n",
    "    \"Kailan? Kailan? Kailan? (Kailan?) Kailan?\",\n",
    "    \"Kailan ang dating\"\n",
    "]\n",
    "\n",
    "# Duration per line (in seconds)\n",
    "durations = [5.76, 6.20, 6.60, 7.58, 7.55, 4.24, 7.33, 17.09, 5.85]\n",
    "\n",
    "def animate_text(text, speed):\n",
    "    for char in text:\n",
    "        sys.stdout.write(char)\n",
    "        sys.stdout.flush()\n",
    "        time.sleep(speed)\n",
    "    print()\n",
    "\n",
    "def sing_song():\n",
    "    for i in range(len(lyrics)):\n",
    "        line = lyrics[i]\n",
    "        duration = durations[i]\n",
    "        speed = duration / len(line)\n",
    "        animate_text(line, speed)\n",
    "\n",
    "if __name__ == \"__main__\":\n",
    "    sing_song()\n"
   ]
  },
  {
   "cell_type": "code",
   "execution_count": null,
   "id": "dd535c1d-2167-4bab-bac0-218068f3e57a",
   "metadata": {},
   "outputs": [],
   "source": []
  },
  {
   "cell_type": "code",
   "execution_count": null,
   "id": "6cb4d9b5-3cd3-4f59-9f2f-b2059dd562cb",
   "metadata": {},
   "outputs": [],
   "source": []
  }
 ],
 "metadata": {
  "kernelspec": {
   "display_name": "Python 3 (ipykernel)",
   "language": "python",
   "name": "python3"
  },
  "language_info": {
   "codemirror_mode": {
    "name": "ipython",
    "version": 3
   },
   "file_extension": ".py",
   "mimetype": "text/x-python",
   "name": "python",
   "nbconvert_exporter": "python",
   "pygments_lexer": "ipython3",
   "version": "3.12.3"
  }
 },
 "nbformat": 4,
 "nbformat_minor": 5
}
